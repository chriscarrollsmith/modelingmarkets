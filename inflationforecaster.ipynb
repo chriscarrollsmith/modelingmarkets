{
 "cells": [
  {
   "cell_type": "code",
   "execution_count": 7,
   "metadata": {},
   "outputs": [],
   "source": [
    "# Import pandas and beautiful soup\n",
    "import pandas as pd\n",
    "from fredapi import Fred"
   ]
  },
  {
   "cell_type": "code",
   "execution_count": null,
   "metadata": {},
   "outputs": [],
   "source": [
    "# Set FRED API key\n",
    "fred = Fred(api_key='121f959af8dc6f9f01c1b90b0ff95b2e')"
   ]
  },
  {
   "cell_type": "code",
   "execution_count": 14,
   "metadata": {},
   "outputs": [],
   "source": [
    "# Scrape JOLTS job openings\n",
    "jolts = fred.get_series('JTSJOL')\n",
    "jolts = jolts.rename('jolts')"
   ]
  },
  {
   "cell_type": "code",
   "execution_count": null,
   "metadata": {},
   "outputs": [],
   "source": [
    "# Scrape 4-week average of US unemployment insurance initial claims\n",
    "icsa = fred.get_series('IC4WSA')\n",
    "icsa = icsa.rename('jolts')"
   ]
  },
  {
   "cell_type": "code",
   "execution_count": null,
   "metadata": {},
   "outputs": [],
   "source": [
    "# Scrape US trimmed mean PCE inflation rates\n",
    "pce = fred.get_series('PCETRIM12M159SFRBDAL')\n",
    "pce = pce.rename('pce')"
   ]
  },
  {
   "cell_type": "code",
   "execution_count": null,
   "metadata": {},
   "outputs": [],
   "source": [
    "# Merge the four DataFrames into one\n",
    "df_all = pd.concat([df_job_openings, df_unemployment, df_pce], axis=1, join='inner')\n",
    "\n",
    "# Select features\n",
    "X = df_all.drop('PCE Inflation', axis=1)\n",
    "\n",
    "# Select target\n",
    "y = df_all['PCE Inflation']\n",
    "\n",
    "# Train a Random Forest Regressor\n",
    "regressor = RandomForestRegressor()\n",
    "regressor.fit(X, y)\n",
    "\n",
    "# Print the model's performance\n",
    "print(\"The model's performance is: {:.2f}.\".format(regressor.score(X, y)))"
   ]
  }
 ],
 "metadata": {
  "kernelspec": {
   "display_name": "base",
   "language": "python",
   "name": "python3"
  },
  "language_info": {
   "codemirror_mode": {
    "name": "ipython",
    "version": 3
   },
   "file_extension": ".py",
   "mimetype": "text/x-python",
   "name": "python",
   "nbconvert_exporter": "python",
   "pygments_lexer": "ipython3",
   "version": "3.9.13"
  },
  "orig_nbformat": 4,
  "vscode": {
   "interpreter": {
    "hash": "fb833273add3e7c60eb33c0608260b79a61e072ade6f02cc8d07b0a26eef8ab8"
   }
  }
 },
 "nbformat": 4,
 "nbformat_minor": 2
}
